{
 "cells": [
  {
   "cell_type": "code",
   "execution_count": 1,
   "id": "57feff96",
   "metadata": {},
   "outputs": [
    {
     "name": "stdout",
     "output_type": "stream",
     "text": [
      "[1, 2, 3]\n",
      "[4, 5, 6]\n",
      "[7, 8, 9]\n"
     ]
    }
   ],
   "source": [
    "print([1,2,3])\n",
    "print([4,5,6])\n",
    "print([7,8,9])"
   ]
  },
  {
   "cell_type": "code",
   "execution_count": 2,
   "id": "8273a6a9",
   "metadata": {},
   "outputs": [],
   "source": [
    "def display(row1,row2,row3):\n",
    "    print(row1)\n",
    "    print(row2)\n",
    "    print(row3)"
   ]
  },
  {
   "cell_type": "code",
   "execution_count": 3,
   "id": "bf940e08",
   "metadata": {},
   "outputs": [],
   "source": [
    "row1= [' ',' ',' ']\n",
    "row2= [' ',' ',' ']\n",
    "row3= [' ',' ',' ']"
   ]
  },
  {
   "cell_type": "code",
   "execution_count": 4,
   "id": "9f495895",
   "metadata": {},
   "outputs": [
    {
     "name": "stdout",
     "output_type": "stream",
     "text": [
      "[' ', ' ', ' ']\n",
      "[' ', ' ', ' ']\n",
      "[' ', ' ', ' ']\n"
     ]
    }
   ],
   "source": [
    "display(row1,row2,row3)"
   ]
  },
  {
   "cell_type": "code",
   "execution_count": 5,
   "id": "04e52b3c",
   "metadata": {},
   "outputs": [],
   "source": [
    "row2[1]='X'"
   ]
  },
  {
   "cell_type": "code",
   "execution_count": 6,
   "id": "0e1cf287",
   "metadata": {},
   "outputs": [
    {
     "name": "stdout",
     "output_type": "stream",
     "text": [
      "[' ', ' ', ' ']\n",
      "[' ', 'X', ' ']\n",
      "[' ', ' ', ' ']\n"
     ]
    }
   ],
   "source": [
    "display(row1,row2,row3)"
   ]
  },
  {
   "cell_type": "markdown",
   "id": "4a7c4821",
   "metadata": {},
   "source": [
    " Next Lecture is 'ACCEPTING USER INPUT' We know."
   ]
  },
  {
   "cell_type": "code",
   "execution_count": 11,
   "id": "7273711e",
   "metadata": {},
   "outputs": [
    {
     "name": "stdout",
     "output_type": "stream",
     "text": [
      "Choose a position: 1\n"
     ]
    }
   ],
   "source": [
    "position_index = int(input(\"Choose a position: \"))"
   ]
  },
  {
   "cell_type": "code",
   "execution_count": 12,
   "id": "f6bbef68",
   "metadata": {},
   "outputs": [
    {
     "data": {
      "text/plain": [
       "1"
      ]
     },
     "execution_count": 12,
     "metadata": {},
     "output_type": "execute_result"
    }
   ],
   "source": [
    "position_index"
   ]
  },
  {
   "cell_type": "code",
   "execution_count": 13,
   "id": "ae5b4a4a",
   "metadata": {},
   "outputs": [
    {
     "data": {
      "text/plain": [
       "' '"
      ]
     },
     "execution_count": 13,
     "metadata": {},
     "output_type": "execute_result"
    }
   ],
   "source": [
    "row1[position_index]"
   ]
  },
  {
   "cell_type": "markdown",
   "id": "b8ff05a3",
   "metadata": {},
   "source": [
    "Next Lecture is 'VALIDATE USER INPUT'. Let's check up on."
   ]
  },
  {
   "cell_type": "code",
   "execution_count": 14,
   "id": "ef0cb00b",
   "metadata": {},
   "outputs": [],
   "source": [
    "def check_choice():\n",
    "    choice = input('Please choose a number: ')\n",
    "    return int(choice)"
   ]
  },
  {
   "cell_type": "code",
   "execution_count": 15,
   "id": "2509fc1e",
   "metadata": {},
   "outputs": [
    {
     "name": "stdout",
     "output_type": "stream",
     "text": [
      "Please choose a number: 4\n"
     ]
    },
    {
     "data": {
      "text/plain": [
       "4"
      ]
     },
     "execution_count": 15,
     "metadata": {},
     "output_type": "execute_result"
    }
   ],
   "source": [
    "check_choice()"
   ]
  },
  {
   "cell_type": "markdown",
   "id": "9601c97d",
   "metadata": {},
   "source": [
    "For not getting value error on entering any invalid input which is not a digit, we'll use while loop through this. We're gonna extend above code a lil much."
   ]
  },
  {
   "cell_type": "code",
   "execution_count": 16,
   "id": "5fbb8a23",
   "metadata": {},
   "outputs": [],
   "source": [
    "def check_choice():\n",
    "    choice =''           #assign something which is not a digit\n",
    "    while choice.isdigit() == False:\n",
    "        choice = input('Please choose a number: ')\n",
    "        if choice.isdigit() == False:\n",
    "            print('Try again! Enter a digit.')\n",
    "    return int(choice)"
   ]
  },
  {
   "cell_type": "code",
   "execution_count": 17,
   "id": "7045c039",
   "metadata": {},
   "outputs": [
    {
     "name": "stdout",
     "output_type": "stream",
     "text": [
      "Please choose a number: hey\n",
      "Try again! Enter a digit.\n",
      "Please choose a number: 56\n"
     ]
    },
    {
     "data": {
      "text/plain": [
       "56"
      ]
     },
     "execution_count": 17,
     "metadata": {},
     "output_type": "execute_result"
    }
   ],
   "source": [
    "check_choice()"
   ]
  },
  {
   "cell_type": "code",
   "execution_count": 18,
   "id": "ad3fc7da",
   "metadata": {},
   "outputs": [],
   "source": [
    "def check_choice():\n",
    "    #VARIABLES\n",
    "    #Initials\n",
    "    choice =''\n",
    "    acceptable_range = range(0,10)  #or[0,1,2]\n",
    "    within_range = False\n",
    "    \n",
    "    while choice.isdigit() == False or within_range == False:\n",
    "        choice = input('Please choose a number: ')\n",
    "        #DIGIT CHECK\n",
    "        if choice.isdigit() == False:\n",
    "            print('Try again! Enter a digit.')\n",
    "            \n",
    "        #RANGE CHECK\n",
    "        if choice.isdigit() == True:\n",
    "            if int(choice) in acceptable_range:\n",
    "                within_range = True\n",
    "            else:\n",
    "                print('Sorry you are out of range!')\n",
    "                within_range = False\n",
    "                \n",
    "    return int(choice)"
   ]
  },
  {
   "cell_type": "code",
   "execution_count": 19,
   "id": "d906c00e",
   "metadata": {},
   "outputs": [
    {
     "name": "stdout",
     "output_type": "stream",
     "text": [
      "Please choose a number: two\n",
      "Try again! Enter a digit.\n",
      "Please choose a number: 500\n",
      "Sorry you are out of range!\n",
      "Please choose a number: 5\n"
     ]
    },
    {
     "data": {
      "text/plain": [
       "5"
      ]
     },
     "execution_count": 19,
     "metadata": {},
     "output_type": "execute_result"
    }
   ],
   "source": [
    "check_choice()"
   ]
  },
  {
   "cell_type": "code",
   "execution_count": null,
   "id": "768888c7",
   "metadata": {},
   "outputs": [],
   "source": []
  }
 ],
 "metadata": {
  "kernelspec": {
   "display_name": "Python 3 (ipykernel)",
   "language": "python",
   "name": "python3"
  },
  "language_info": {
   "codemirror_mode": {
    "name": "ipython",
    "version": 3
   },
   "file_extension": ".py",
   "mimetype": "text/x-python",
   "name": "python",
   "nbconvert_exporter": "python",
   "pygments_lexer": "ipython3",
   "version": "3.9.12"
  }
 },
 "nbformat": 4,
 "nbformat_minor": 5
}
