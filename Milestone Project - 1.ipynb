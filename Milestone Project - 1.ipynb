{
 "cells": [
  {
   "cell_type": "code",
   "execution_count": 49,
   "id": "197683f5",
   "metadata": {},
   "outputs": [],
   "source": [
    "# STEP 1\n",
    "from IPython.display import clear_output\n",
    "\n",
    "def display_board(board):\n",
    "    clear_output()\n",
    "    print(board[1]+ ' | ' + board[2] + ' | ' + board[3])\n",
    "    print('--|---|--')\n",
    "    print(board[4]+' | ' + board[5]+' | ' + board[6])\n",
    "    print('--|---|--')\n",
    "    print(board[7]+' | ' + board[8]+' | ' + board[9])"
   ]
  },
  {
   "cell_type": "code",
   "execution_count": 50,
   "id": "0166edc4",
   "metadata": {},
   "outputs": [
    {
     "name": "stdout",
     "output_type": "stream",
     "text": [
      "X | O | X\n",
      "--|---|--\n",
      "O | X | O\n",
      "--|---|--\n",
      "X | O | X\n"
     ]
    }
   ],
   "source": [
    "# Test Step 1\n",
    "test_board = ['$','X','O','X','O','X','O','X','O','X']*10\n",
    "display_board(test_board)"
   ]
  },
  {
   "cell_type": "code",
   "execution_count": 51,
   "id": "bfefa2f6",
   "metadata": {},
   "outputs": [],
   "source": [
    "# STEP 2\n",
    "def player_input():\n",
    "    marker = ''\n",
    "    while marker not in ['X','O']:\n",
    "        marker = input('Do you want to be X or O ?').upper()\n",
    "        \n",
    "        if marker not in ['X', 'O']:\n",
    "            print('Invalid Response!')\n",
    "            \n",
    "    player1 = marker\n",
    "    if player1 == 'X':\n",
    "        player2 = 'O'\n",
    "    else:\n",
    "        player2 = 'X'\n",
    "    return (player1,player2)"
   ]
  },
  {
   "cell_type": "code",
   "execution_count": 52,
   "id": "6cc21b10",
   "metadata": {},
   "outputs": [
    {
     "name": "stdout",
     "output_type": "stream",
     "text": [
      "Do you want to be X or O ?o\n"
     ]
    }
   ],
   "source": [
    "# Test Step 2\n",
    "player1_marker,player2_marker = player_input()"
   ]
  },
  {
   "cell_type": "code",
   "execution_count": 53,
   "id": "89469125",
   "metadata": {},
   "outputs": [
    {
     "data": {
      "text/plain": [
       "'X'"
      ]
     },
     "execution_count": 53,
     "metadata": {},
     "output_type": "execute_result"
    }
   ],
   "source": [
    "player2_marker"
   ]
  },
  {
   "cell_type": "markdown",
   "id": "def744a3",
   "metadata": {},
   "source": [
    "Write a function that takes in the board list object, a marker ('X' or 'O'), and a desired position (number 1-9) and assigns it to the board."
   ]
  },
  {
   "cell_type": "code",
   "execution_count": 54,
   "id": "b537456d",
   "metadata": {},
   "outputs": [],
   "source": [
    "# STEP 3\n",
    "def place_marker(board, marker, position):\n",
    "    board[position] = marker \n",
    "    return board"
   ]
  },
  {
   "cell_type": "code",
   "execution_count": 55,
   "id": "791416d1",
   "metadata": {},
   "outputs": [
    {
     "name": "stdout",
     "output_type": "stream",
     "text": [
      "X | O | X\n",
      "--|---|--\n",
      "O | X | O\n",
      "--|---|--\n",
      "$ | O | X\n"
     ]
    }
   ],
   "source": [
    "# Test Step 3\n",
    "place_marker(test_board,'$',7)\n",
    "display_board(test_board)"
   ]
  },
  {
   "cell_type": "code",
   "execution_count": 56,
   "id": "fc45a870",
   "metadata": {},
   "outputs": [],
   "source": [
    "# STEP 4\n",
    "def win_check(board, mark):\n",
    "    return board[1]==board[2]==board[3] ==mark or board[4]==board[5]==board[6]==mark or board[7]==board[8]==board[9]==mark or board[1]==board[4]==board[7]==mark or board[2]==board[5]==board[8]==mark or board[3]==board[6]==board[9]==mark or board[1]==board[5]==board[9]==mark or board[3]==board[5]==board[7]==mark"
   ]
  },
  {
   "cell_type": "code",
   "execution_count": 57,
   "id": "f5c45e2f",
   "metadata": {},
   "outputs": [
    {
     "data": {
      "text/plain": [
       "False"
      ]
     },
     "execution_count": 57,
     "metadata": {},
     "output_type": "execute_result"
    }
   ],
   "source": [
    "# Test Step 4\n",
    "win_check(test_board,' ')"
   ]
  },
  {
   "cell_type": "code",
   "execution_count": 58,
   "id": "2d601099",
   "metadata": {},
   "outputs": [],
   "source": [
    "# STEP 5\n",
    "import random\n",
    "\n",
    "def choose_first():\n",
    "    flip = random.randint(0,1)\n",
    "    if flip == 0:\n",
    "        return 'PLAYER 1'\n",
    "    else:\n",
    "        return 'PLAYER 2'"
   ]
  },
  {
   "cell_type": "code",
   "execution_count": 59,
   "id": "76297753",
   "metadata": {},
   "outputs": [],
   "source": [
    "# STEP 6\n",
    "def space_check(board, position):\n",
    "    return board[position] == ' '"
   ]
  },
  {
   "cell_type": "code",
   "execution_count": 60,
   "id": "30612340",
   "metadata": {},
   "outputs": [],
   "source": [
    "# STEP 7\n",
    "def full_board_check(board):\n",
    "    for i in range(1,10):\n",
    "        if space_check(board, i):\n",
    "            return False\n",
    "    return True"
   ]
  },
  {
   "cell_type": "code",
   "execution_count": 61,
   "id": "0218befe",
   "metadata": {},
   "outputs": [],
   "source": [
    "# STEP 8\n",
    "def player_choice(board):\n",
    "    position = 0\n",
    "    while position not in range(1,10) or not space_check(board,position):\n",
    "        position = int(input('Choose your position (1-9): '))\n",
    "        if position not in range(1,10):\n",
    "            print('Choose your position (1-9): ')\n",
    "    return position"
   ]
  },
  {
   "cell_type": "code",
   "execution_count": 62,
   "id": "e4d0f5e7",
   "metadata": {},
   "outputs": [],
   "source": [
    "# STEP 9\n",
    "def replay():\n",
    "    playy = ''\n",
    "    while playy not in ['Y','N']:\n",
    "        playy = input('Do you want to play again (Y or N) ?').upper()\n",
    "    if playy == 'Y':\n",
    "        return True\n",
    "    else:\n",
    "        return False"
   ]
  },
  {
   "cell_type": "code",
   "execution_count": 63,
   "id": "8210e213",
   "metadata": {},
   "outputs": [
    {
     "name": "stdout",
     "output_type": "stream",
     "text": [
      "Do you want to play again (Y or N) ?y\n"
     ]
    },
    {
     "data": {
      "text/plain": [
       "True"
      ]
     },
     "execution_count": 63,
     "metadata": {},
     "output_type": "execute_result"
    }
   ],
   "source": [
    "# Test Step 9\n",
    "replay()"
   ]
  },
  {
   "cell_type": "code",
   "execution_count": 64,
   "id": "3625809e",
   "metadata": {},
   "outputs": [
    {
     "name": "stdout",
     "output_type": "stream",
     "text": [
      "O | X | O\n",
      "--|---|--\n",
      "X | O | X\n",
      "--|---|--\n",
      "  |   | O\n",
      "CONGO! Player 2 has won.\n",
      "Do you want to play again (Y or N) ?n\n"
     ]
    }
   ],
   "source": [
    "print('***WELCOME TO TIC TAC TOE***')\n",
    "\n",
    "while True:\n",
    "    # Set the game up here\n",
    "    the_board = [' ']*10\n",
    "    display_board(the_board)\n",
    "    player1_mark, player2_mark = player_input()\n",
    "    turn = choose_first()\n",
    "    game_on = input(f'{turn} Ready to play (y or n)? ')\n",
    "    if game_on == 'y':\n",
    "        game_on = True\n",
    "    else:\n",
    "        game_on = False\n",
    "\n",
    "    while game_on:\n",
    "        if turn == 'PLAYER 1':\n",
    "            \n",
    "            #Show the board\n",
    "            display_board(the_board)\n",
    "            \n",
    "            #Choose the position\n",
    "            position = player_choice(the_board)\n",
    "            \n",
    "            #Place the marker into that position\n",
    "            place_marker(the_board, player1_mark, position)\n",
    "            \n",
    "            #Check if they won\n",
    "            if win_check(the_board, player1_mark):\n",
    "                display_board(the_board)\n",
    "                print('CONGO! Player 1 has won.')\n",
    "                game_on = False\n",
    "            else:\n",
    "                if full_board_check(the_board):             # Condition when none of them won\n",
    "                    display_board(the_board)\n",
    "                    print('TIE GAME')\n",
    "                    game_on = False\n",
    "                else:\n",
    "                    turn = 'PLAYER 2'\n",
    "        else:\n",
    "            #Show the board\n",
    "            display_board(the_board)\n",
    "            \n",
    "            #Choose the position\n",
    "            position = player_choice(the_board)\n",
    "            \n",
    "            #Place the marker into that position\n",
    "            place_marker(the_board, player2_mark, position)\n",
    "            \n",
    "            #Check if they won\n",
    "            if win_check(the_board, player2_mark):\n",
    "                display_board(the_board)\n",
    "                print('CONGO! Player 2 has won.')\n",
    "                game_on = False\n",
    "            else:\n",
    "                if full_board_check(the_board):             # Condition when none of them won\n",
    "                    display_board(the_board)\n",
    "                    print('TIE GAME')\n",
    "                    game_on = False\n",
    "                else:\n",
    "                    turn = 'PLAYER 1'\n",
    "          \n",
    "\n",
    "    if not replay():\n",
    "        break"
   ]
  },
  {
   "cell_type": "code",
   "execution_count": null,
   "id": "351dbec7",
   "metadata": {},
   "outputs": [],
   "source": []
  }
 ],
 "metadata": {
  "kernelspec": {
   "display_name": "Python 3 (ipykernel)",
   "language": "python",
   "name": "python3"
  },
  "language_info": {
   "codemirror_mode": {
    "name": "ipython",
    "version": 3
   },
   "file_extension": ".py",
   "mimetype": "text/x-python",
   "name": "python",
   "nbconvert_exporter": "python",
   "pygments_lexer": "ipython3",
   "version": "3.9.12"
  }
 },
 "nbformat": 4,
 "nbformat_minor": 5
}
