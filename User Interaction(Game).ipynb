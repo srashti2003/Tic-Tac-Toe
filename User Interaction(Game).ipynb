{
 "cells": [
  {
   "cell_type": "code",
   "execution_count": 7,
   "id": "b4f0be54",
   "metadata": {},
   "outputs": [
    {
     "name": "stdout",
     "output_type": "stream",
     "text": [
      "Here's the current list!\n",
      "[1, 2, 3]\n"
     ]
    }
   ],
   "source": [
    "gamelist = [1,2,3]\n",
    "def display_list(gamelist):\n",
    "    print(\"Here's the current list!\")\n",
    "    print(gamelist)\n",
    "display_list(gamelist)\n"
   ]
  },
  {
   "cell_type": "code",
   "execution_count": 8,
   "id": "f6f44bf0",
   "metadata": {},
   "outputs": [],
   "source": [
    "def choice():\n",
    "    choice = ''\n",
    "    accept_range = range(0,3)\n",
    "    within_range = False\n",
    "    \n",
    "    while choice.isdigit() == False or within_range == False:\n",
    "        choice = input('Choose an index position in (0,1 or 2): ')\n",
    "        \n",
    "        if choice.isdigit() == False:\n",
    "            print('Please enter a digit!')\n",
    "        if choice.isdigit() == True:\n",
    "            if int(choice) in accept_range:\n",
    "                within_range = True\n",
    "            else:\n",
    "                print('Sorry you are out of range')\n",
    "                within_range = False\n",
    "    return int(choice) "
   ]
  },
  {
   "cell_type": "code",
   "execution_count": 9,
   "id": "5240c5e6",
   "metadata": {},
   "outputs": [
    {
     "name": "stdout",
     "output_type": "stream",
     "text": [
      "Choose an index position in (0,1 or 2): 1\n"
     ]
    },
    {
     "data": {
      "text/plain": [
       "1"
      ]
     },
     "execution_count": 9,
     "metadata": {},
     "output_type": "execute_result"
    }
   ],
   "source": [
    "choice()"
   ]
  },
  {
   "cell_type": "code",
   "execution_count": 10,
   "id": "41c47a13",
   "metadata": {},
   "outputs": [
    {
     "name": "stdout",
     "output_type": "stream",
     "text": [
      "Write something at the position you want to change: rgre\n"
     ]
    },
    {
     "data": {
      "text/plain": [
       "[1, 'rgre', 3]"
      ]
     },
     "execution_count": 10,
     "metadata": {},
     "output_type": "execute_result"
    }
   ],
   "source": [
    "def positionn(gamelist, position_index):\n",
    "    user_change = input('Write something at the position you want to change: ')\n",
    "    gamelist[position_index] = user_change\n",
    "    return gamelist\n",
    "positionn(gamelist,1)"
   ]
  },
  {
   "cell_type": "code",
   "execution_count": 11,
   "id": "4547c9f4",
   "metadata": {},
   "outputs": [
    {
     "name": "stdout",
     "output_type": "stream",
     "text": [
      "Would you like to keep playing?Y\n"
     ]
    },
    {
     "data": {
      "text/plain": [
       "True"
      ]
     },
     "execution_count": 11,
     "metadata": {},
     "output_type": "execute_result"
    }
   ],
   "source": [
    "def game_on():\n",
    "    choice = ''\n",
    "    while choice not in ['Y', 'N']:\n",
    "        choice = input(\"Would you like to keep playing?\")\n",
    "        \n",
    "        if choice not in ['Y', 'N']:\n",
    "            print(\"Didn't understand, make sure you say Y or N\")\n",
    "            \n",
    "    if choice == 'Y':\n",
    "        return True\n",
    "    else:\n",
    "        return False\n",
    "game_on()"
   ]
  },
  {
   "cell_type": "code",
   "execution_count": 12,
   "id": "2ce5a620",
   "metadata": {},
   "outputs": [
    {
     "name": "stdout",
     "output_type": "stream",
     "text": [
      "Here's the current list!\n",
      "[1, 2, 3]\n",
      "Choose an index position in (0,1 or 2): 0\n",
      "Write something at the position you want to change: This is One\n",
      "Here's the current list!\n",
      "['This is One', 2, 3]\n",
      "Would you like to keep playing?N\n",
      "Here's the current list!\n",
      "['This is One', 2, 3]\n",
      "Choose an index position in (0,1 or 2): 2\n",
      "Write something at the position you want to change: gr\n",
      "Here's the current list!\n",
      "['This is One', 2, 'gr']\n",
      "Would you like to keep playing?dvfds\n",
      "Didn't understand, make sure you say Y or N\n",
      "Would you like to keep playing?ddds\n",
      "Didn't understand, make sure you say Y or N\n",
      "Would you like to keep playing?N\n",
      "Here's the current list!\n",
      "['This is One', 2, 'gr']\n"
     ]
    }
   ],
   "source": [
    "game = True\n",
    "gamelist = [1,2,3]\n",
    "\n",
    "while game_on:\n",
    "    \n",
    "    display_list(gamelist)\n",
    "    \n",
    "    position_index = choice()\n",
    "    \n",
    "    gamelist = positionn(gamelist, position_index)\n",
    "    \n",
    "    display_list(gamelist)\n",
    "    \n",
    "    game = game_on()"
   ]
  },
  {
   "cell_type": "code",
   "execution_count": null,
   "id": "61cdfb91",
   "metadata": {},
   "outputs": [],
   "source": []
  }
 ],
 "metadata": {
  "kernelspec": {
   "display_name": "Python 3 (ipykernel)",
   "language": "python",
   "name": "python3"
  },
  "language_info": {
   "codemirror_mode": {
    "name": "ipython",
    "version": 3
   },
   "file_extension": ".py",
   "mimetype": "text/x-python",
   "name": "python",
   "nbconvert_exporter": "python",
   "pygments_lexer": "ipython3",
   "version": "3.9.12"
  }
 },
 "nbformat": 4,
 "nbformat_minor": 5
}
