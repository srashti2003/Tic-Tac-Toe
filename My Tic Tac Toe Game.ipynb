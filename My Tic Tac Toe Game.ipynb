{
 "cells": [
  {
   "cell_type": "code",
   "execution_count": 10,
   "id": "b4314e98",
   "metadata": {},
   "outputs": [
    {
     "name": "stdout",
     "output_type": "stream",
     "text": [
      "X | O | O\n",
      "--|---|--\n",
      "O | X | X\n",
      "--|---|--\n",
      "O | O | X\n",
      "Congo!! Player 1 has won.\n",
      "Wanna play again (y or n) ? n\n"
     ]
    }
   ],
   "source": [
    "print(\"WELCOME TO TIC TAC TOE GAME!!!\")\n",
    "\n",
    "while True:\n",
    "    the_board = [' ']*10\n",
    "    display_board(the_board)\n",
    "    player1_marker, player2_marker = player_input()\n",
    "    turn = choose_first()\n",
    "    print(f'{turn} will go first!')\n",
    "    game_on = input(f\"{turn} Ready to play (y or n) ? \")\n",
    "    if game_on == 'y':\n",
    "        game_on = True\n",
    "    else:\n",
    "        game_on = False\n",
    "        \n",
    "    while game_on:\n",
    "        if turn == 'Player 1':\n",
    "            display_board(the_board)\n",
    "            position = player_choice(the_board)\n",
    "            place_marker(the_board, position, player1_marker)\n",
    "            if wincheck(the_board,player1_marker):\n",
    "                display_board(the_board)\n",
    "                print(\"Congo!! Player 1 has won.\")\n",
    "                game_on = False\n",
    "            else:\n",
    "                if fullboard_check(the_board):\n",
    "                    display_board(the_board)\n",
    "                    print(\"TIE GAME\")\n",
    "                    game_on = False\n",
    "                else:\n",
    "                    turn = 'Player 2'\n",
    "        else:\n",
    "            display_board(the_board)\n",
    "            position = player_choice(the_board)\n",
    "            place_marker(the_board, position, player2_marker)\n",
    "            if wincheck(the_board,player2_marker):\n",
    "                display_board(the_board)\n",
    "                print(\"Congo!! Player 2 has won\")\n",
    "                game_on = False\n",
    "            else:\n",
    "                if fullboard_check(the_board):\n",
    "                    display_board(the_board)\n",
    "                    print(\"TIE GAME\")\n",
    "                    game_on = False\n",
    "                else:\n",
    "                    turn = 'Player 1'\n",
    "    if not replay():\n",
    "        break"
   ]
  },
  {
   "cell_type": "code",
   "execution_count": 1,
   "id": "8947de71",
   "metadata": {},
   "outputs": [],
   "source": [
    "# STEP 1\n",
    "from IPython.display import clear_output\n",
    "\n",
    "def display_board(board):\n",
    "    clear_output()\n",
    "    print(board[1] + ' | '+board[3] + ' | '+board[3])\n",
    "    print('--|---|--')\n",
    "    print(board[4] + ' | '+board[5] + ' | '+board[6])\n",
    "    print('--|---|--')\n",
    "    print(board[7] + ' | '+board[8] + ' | '+board[9])\n",
    "    "
   ]
  },
  {
   "cell_type": "code",
   "execution_count": 2,
   "id": "bbfa246c",
   "metadata": {},
   "outputs": [
    {
     "name": "stdout",
     "output_type": "stream",
     "text": [
      "O | O | O\n",
      "--|---|--\n",
      "  | O | X\n",
      "--|---|--\n",
      "O | X | O\n"
     ]
    }
   ],
   "source": [
    "# Test Step 1\n",
    "my_board = ['$','O',' ','O',' ','O','X','O','X','O']\n",
    "display_board(my_board)"
   ]
  },
  {
   "cell_type": "code",
   "execution_count": 4,
   "id": "20bff0d7",
   "metadata": {},
   "outputs": [],
   "source": [
    "# STEP 2\n",
    "def player_input():\n",
    "    mark = ''\n",
    "    while mark not in ['X','O']:\n",
    "        mark = input(\"Choose your marker (X or O): \").upper()\n",
    "        if mark not in ['X','O']:\n",
    "            print(\"Choose your marker (X or O): \").upper()\n",
    "    player1 = mark\n",
    "    if player1 == 'X':\n",
    "        player2 = 'O'\n",
    "    else:\n",
    "        player2 = 'X'\n",
    "    return player1,player2"
   ]
  },
  {
   "cell_type": "code",
   "execution_count": 5,
   "id": "bc15ca8a",
   "metadata": {},
   "outputs": [
    {
     "name": "stdout",
     "output_type": "stream",
     "text": [
      "Choose your marker (X or O): o\n"
     ]
    }
   ],
   "source": [
    "# Test Step 2\n",
    "player1_mark,player2_mark = player_input()"
   ]
  },
  {
   "cell_type": "code",
   "execution_count": 6,
   "id": "c3e98468",
   "metadata": {},
   "outputs": [
    {
     "data": {
      "text/plain": [
       "'X'"
      ]
     },
     "execution_count": 6,
     "metadata": {},
     "output_type": "execute_result"
    }
   ],
   "source": [
    "player2_mark"
   ]
  },
  {
   "cell_type": "code",
   "execution_count": 3,
   "id": "f91e97a9",
   "metadata": {},
   "outputs": [],
   "source": [
    "# STEP 3\n",
    "import random\n",
    "def choose_first():\n",
    "    flip = random.randint(0,1)\n",
    "    if flip == 0:\n",
    "        return 'Player 1'\n",
    "    else:\n",
    "        return 'Player 2'"
   ]
  },
  {
   "cell_type": "code",
   "execution_count": 4,
   "id": "0652ef1b",
   "metadata": {},
   "outputs": [],
   "source": [
    "# STEP 4\n",
    "def place_marker(board,position,mark):\n",
    "    board[position] = mark\n",
    "    return board"
   ]
  },
  {
   "cell_type": "code",
   "execution_count": 5,
   "id": "13f19a5d",
   "metadata": {},
   "outputs": [],
   "source": [
    "# STEP 5\n",
    "def space_check(board,position):\n",
    "    return board[position] == ' '"
   ]
  },
  {
   "cell_type": "code",
   "execution_count": 6,
   "id": "6fa4e417",
   "metadata": {},
   "outputs": [],
   "source": [
    "# STEP 6\n",
    "def player_choice(board):\n",
    "    position= 0\n",
    "    while position not in range(1,10) or not space_check(board,position):\n",
    "        position = int(input(\"Choose your position (1-9): \"))\n",
    "    return position"
   ]
  },
  {
   "cell_type": "code",
   "execution_count": 46,
   "id": "c684f29d",
   "metadata": {},
   "outputs": [
    {
     "name": "stdout",
     "output_type": "stream",
     "text": [
      "O | O | O\n",
      "--|---|--\n",
      "  | O | X\n",
      "--|---|--\n",
      "O | X | O\n",
      "Choose your position (1-9): 3\n",
      "Choose your position (1-9): 5\n",
      "Choose your position (1-9): 4\n"
     ]
    },
    {
     "data": {
      "text/plain": [
       "4"
      ]
     },
     "execution_count": 46,
     "metadata": {},
     "output_type": "execute_result"
    }
   ],
   "source": [
    "# Test Step 6\n",
    "my_board = ['$','O',' ','O',' ','O','X','O','X','O']\n",
    "display_board(my_board)\n",
    "player_choice(my_board)"
   ]
  },
  {
   "cell_type": "code",
   "execution_count": 7,
   "id": "6681f248",
   "metadata": {},
   "outputs": [],
   "source": [
    "# STEP 7\n",
    "def fullboard_check(board):\n",
    "    for i in range(1,10):\n",
    "        if space_check(board,i):\n",
    "            return False\n",
    "    return True"
   ]
  },
  {
   "cell_type": "code",
   "execution_count": 8,
   "id": "fb51e74c",
   "metadata": {},
   "outputs": [],
   "source": [
    "# STEP 8\n",
    "def wincheck(board,mark):\n",
    "    return board[1]==board[2]==board[3]==mark or board[4]==board[5]==board[6]==mark or board[7]==board[8]==board[9]==mark or board[1]==board[4]==board[7]==mark or board[2]==board[5]==board[8]==mark or board[3]==board[6]==board[9]==mark or board[1]==board[5]==board[9]==mark or board[3]==board[5]==board[7]==mark"
   ]
  },
  {
   "cell_type": "code",
   "execution_count": 9,
   "id": "d92281fc",
   "metadata": {},
   "outputs": [],
   "source": [
    "# STEP 9\n",
    "def replay():\n",
    "    choice = ''\n",
    "    while choice not in ['y','n']:\n",
    "        choice = input(\"Wanna play again (y or n) ? \")\n",
    "    if choice == 'y':\n",
    "        return True\n",
    "    else:\n",
    "        return False"
   ]
  },
  {
   "cell_type": "code",
   "execution_count": null,
   "id": "1963e6a2",
   "metadata": {},
   "outputs": [],
   "source": [
    "print(\"WELCOME TO TIC TAC TOE GAME!!!\")\n",
    "\n",
    "while True:\n",
    "    the_board = [' ']*10\n",
    "    display_board(the_board)\n",
    "    player1_marker, player2_marker = player_input()\n",
    "    turn = choose_first()\n",
    "    print(f'{turn} will go first!')\n",
    "    game_on = input(f\"{turn} Ready to play (y or n) ? \")\n",
    "    if game_on == 'y':\n",
    "        game_on = True\n",
    "    else:\n",
    "        game_on = False\n",
    "        \n",
    "    while game_on:\n",
    "        if turn == 'Player 1':\n",
    "            display_board(the_board)\n",
    "            position = player_choice(the_board)\n",
    "            place_marker(the_board, position, player1_marker)\n",
    "            if wincheck(the_board,player1_marker):\n",
    "                display_board(the_board)\n",
    "                print(\"Congo!! Player 1 has won.\")\n",
    "                game_on = False\n",
    "            else:\n",
    "                if fullboard_check(the_board):\n",
    "                    display_board(the_board)\n",
    "                    print(\"TIE GAME\")\n",
    "                    game_on = False\n",
    "                else:\n",
    "                    turn = 'Player 2'\n",
    "        else:\n",
    "            display_board(the_board)\n",
    "            position = player_choice(the_board)\n",
    "            place_marker(the_board, position, player2_marker)\n",
    "            if wincheck(the_board,player2_marker):\n",
    "                display_board(the_board)\n",
    "                print(\"Congo!! Player 2 has won\")\n",
    "                game_on = False\n",
    "            else:\n",
    "                if fullboard_check(the_board):\n",
    "                    display_board(the_board)\n",
    "                    print(\"TIE GAME\")\n",
    "                    game_on = False\n",
    "                else:\n",
    "                    turn = 'Player 1'\n",
    "    if not replay():\n",
    "        break"
   ]
  }
 ],
 "metadata": {
  "kernelspec": {
   "display_name": "Python 3 (ipykernel)",
   "language": "python",
   "name": "python3"
  },
  "language_info": {
   "codemirror_mode": {
    "name": "ipython",
    "version": 3
   },
   "file_extension": ".py",
   "mimetype": "text/x-python",
   "name": "python",
   "nbconvert_exporter": "python",
   "pygments_lexer": "ipython3",
   "version": "3.9.12"
  }
 },
 "nbformat": 4,
 "nbformat_minor": 5
}
